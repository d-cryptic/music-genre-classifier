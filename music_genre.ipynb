{
 "cells": [
  {
   "cell_type": "markdown",
   "id": "ccd2cda2-2573-46f4-ada5-468d16dba452",
   "metadata": {},
   "source": [
    "## Imports"
   ]
  },
  {
   "cell_type": "code",
   "execution_count": 68,
   "id": "cefded7a-a6e2-4c29-abdf-176e324afc62",
   "metadata": {},
   "outputs": [],
   "source": [
    "from python_speech_features import mfcc\n",
    "import scipy.io.wavfile as wav\n",
    "import numpy as np\n",
    "\n",
    "from tempfile import TemporaryFile\n",
    "import os\n",
    "import pickle\n",
    "import random \n",
    "import operator\n",
    "\n",
    "import math\n",
    "import numpy as np"
   ]
  },
  {
   "cell_type": "code",
   "execution_count": 69,
   "id": "3e17cc7b-8d79-4de2-967b-81e493a8b03f",
   "metadata": {},
   "outputs": [],
   "source": [
    "def distance(instance1 , instance2 , k ):\n",
    "    distance =0 \n",
    "    mm1 = instance1[0] \n",
    "    cm1 = instance1[1]\n",
    "    mm2 = instance2[0]\n",
    "    cm2 = instance2[1]\n",
    "    distance = np.trace(np.dot(np.linalg.inv(cm2), cm1)) \n",
    "    distance+=(np.dot(np.dot((mm2-mm1).transpose() , np.linalg.inv(cm2)) , mm2-mm1 )) \n",
    "    distance+= np.log(np.linalg.det(cm2)) - np.log(np.linalg.det(cm1))\n",
    "    distance-= k\n",
    "    return distance"
   ]
  },
  {
   "cell_type": "markdown",
   "id": "40e32bd4-d1e9-432f-9735-ed6a5525c37b",
   "metadata": {},
   "source": [
    "## Define a function to get the distance between feature vectors and find neighbors:"
   ]
  },
  {
   "cell_type": "code",
   "execution_count": 70,
   "id": "046f51b7-4bef-4c7b-8060-144a3206cf26",
   "metadata": {},
   "outputs": [],
   "source": [
    "def getNeighbors(trainingSet, instance, k):\n",
    "    distances = []\n",
    "    for x in range (len(trainingSet)):\n",
    "        dist = distance(trainingSet[x], instance, k )+ distance(instance, trainingSet[x], k)\n",
    "        distances.append((trainingSet[x][2], dist))\n",
    "    distances.sort(key=operator.itemgetter(1))\n",
    "    neighbors = []\n",
    "    for x in range(k):\n",
    "        neighbors.append(distances[x][0])\n",
    "    return neighbors"
   ]
  },
  {
   "cell_type": "markdown",
   "id": "9e37bedd-a1cb-4e78-957d-ceee4f8d952d",
   "metadata": {},
   "source": [
    "### Identify the nearest neigbors"
   ]
  },
  {
   "cell_type": "code",
   "execution_count": 71,
   "id": "e1068847-a894-4d25-b0e0-b9e29c528d27",
   "metadata": {},
   "outputs": [],
   "source": [
    "def nearestClass(neighbors):\n",
    "    classVote = {}\n",
    "\n",
    "    for x in range(len(neighbors)):\n",
    "        response = neighbors[x]\n",
    "        if response in classVote:\n",
    "            classVote[response]+=1 \n",
    "        else:\n",
    "            classVote[response]=1\n",
    "\n",
    "    sorter = sorted(classVote.items(), key = operator.itemgetter(1), reverse=True)\n",
    "    return sorter[0][0]"
   ]
  },
  {
   "cell_type": "markdown",
   "id": "3bbda46f-dfa8-4b47-b50b-8bc64382b5d2",
   "metadata": {},
   "source": [
    "### Define a function for model evaluation:"
   ]
  },
  {
   "cell_type": "code",
   "execution_count": 72,
   "id": "03aabd1b-60ed-4095-8731-4105bb3578bc",
   "metadata": {},
   "outputs": [],
   "source": [
    "def getAccuracy(testSet, predictions):\n",
    "    correct = 0 \n",
    "    for x in range (len(testSet)):\n",
    "        if testSet[x][-1]==predictions[x]:\n",
    "            correct+=1\n",
    "    return 1.0*correct/len(testSet)"
   ]
  },
  {
   "cell_type": "markdown",
   "id": "d7ac159d-1692-4aa8-9ab0-2424340a9f93",
   "metadata": {},
   "source": [
    "### Extract features from the dataset and dump these features into a binary .dat file \"my.dat\""
   ]
  },
  {
   "cell_type": "code",
   "execution_count": 73,
   "id": "597bb503-11d2-43fc-9d27-4ce40603164b",
   "metadata": {},
   "outputs": [],
   "source": [
    "directory = \"./genres/\"\n",
    "f= open(\"my.dat\" ,'wb')\n",
    "i=0\n",
    "\n",
    "for folder in os.listdir(directory):\n",
    "    i+=1\n",
    "    if i==11 :\n",
    "        break   \n",
    "    for file in os.listdir(directory+folder):  \n",
    "        (rate,sig) = wav.read(directory+folder+\"/\"+file)\n",
    "        mfcc_feat = mfcc(sig,rate ,winlen=0.020, appendEnergy = False)\n",
    "        covariance = np.cov(np.matrix.transpose(mfcc_feat))\n",
    "        mean_matrix = mfcc_feat.mean(0)\n",
    "        feature = (mean_matrix , covariance , i)\n",
    "        pickle.dump(feature , f)\n",
    "\n",
    "f.close()"
   ]
  },
  {
   "cell_type": "markdown",
   "id": "f21b83d2-8834-4c62-844a-0536394aafa5",
   "metadata": {},
   "source": [
    "### Train an split on the dataset:"
   ]
  },
  {
   "cell_type": "code",
   "execution_count": 74,
   "id": "584fbb40-6146-43ee-8d2e-e7e8085da8f8",
   "metadata": {},
   "outputs": [],
   "source": [
    "dataset = []\n",
    "def loadDataset(filename , split , trSet , teSet):\n",
    "    with open(\"my.dat\" , 'rb') as f:\n",
    "        while True:\n",
    "            try:\n",
    "                dataset.append(pickle.load(f))\n",
    "            except EOFError:\n",
    "                f.close()\n",
    "                break  \n",
    "\n",
    "    for x in range(len(dataset)):\n",
    "        if random.random() <split :      \n",
    "            trSet.append(dataset[x])\n",
    "        else:\n",
    "            teSet.append(dataset[x])  \n",
    "\n",
    "trainingSet = []\n",
    "testSet = []\n",
    "loadDataset(\"my.dat\" , 0.66, trainingSet, testSet)"
   ]
  },
  {
   "cell_type": "markdown",
   "id": "5c16fade-84f1-4e03-a1b3-1484fded469c",
   "metadata": {},
   "source": [
    "### Make prediction using [KNN](https://cs.carleton.edu/cs_comps/0910/netflixprize/final_results/knn/index.html) and get the accuracy on test data"
   ]
  },
  {
   "cell_type": "code",
   "execution_count": 75,
   "id": "75f76f9e-d48e-44e7-98b6-51a8ca023df4",
   "metadata": {},
   "outputs": [
    {
     "name": "stdout",
     "output_type": "stream",
     "text": [
      "0.7122507122507122\n"
     ]
    }
   ],
   "source": [
    "leng = len(testSet)\n",
    "predictions = []\n",
    "for x in range (leng):\n",
    "    predictions.append(nearestClass(getNeighbors(trainingSet ,testSet[x] , 5))) \n",
    "\n",
    "accuracy1 = getAccuracy(testSet , predictions)\n",
    "print(accuracy1)"
   ]
  },
  {
   "cell_type": "code",
   "execution_count": null,
   "id": "d32e9adf-669a-4571-b95d-516b8d130da9",
   "metadata": {},
   "outputs": [],
   "source": []
  }
 ],
 "metadata": {
  "kernelspec": {
   "display_name": "Python 3 (ipykernel)",
   "language": "python",
   "name": "python3"
  },
  "language_info": {
   "codemirror_mode": {
    "name": "ipython",
    "version": 3
   },
   "file_extension": ".py",
   "mimetype": "text/x-python",
   "name": "python",
   "nbconvert_exporter": "python",
   "pygments_lexer": "ipython3",
   "version": "3.9.7"
  }
 },
 "nbformat": 4,
 "nbformat_minor": 5
}
